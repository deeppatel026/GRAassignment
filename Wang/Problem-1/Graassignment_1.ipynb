{
  "nbformat": 4,
  "nbformat_minor": 0,
  "metadata": {
    "colab": {
      "provenance": []
    },
    "kernelspec": {
      "name": "python3",
      "display_name": "Python 3"
    },
    "language_info": {
      "name": "python"
    }
  },
  "cells": [
    {
      "cell_type": "code",
      "execution_count": 1,
      "metadata": {
        "colab": {
          "base_uri": "https://localhost:8080/"
        },
        "id": "sx0b83tmb5dG",
        "outputId": "c87e0469-8c0c-4998-dd10-b290678a2b2d"
      },
      "outputs": [
        {
          "output_type": "stream",
          "name": "stdout",
          "text": [
            "Epoch 1/10\n",
            "2/2 [==============================] - 1s 159ms/step - loss: 684944654336.0000 - accuracy: 0.0000e+00\n",
            "Epoch 2/10\n",
            "2/2 [==============================] - 0s 148ms/step - loss: 900598530048.0000 - accuracy: 0.4364\n",
            "Epoch 3/10\n",
            "2/2 [==============================] - 0s 159ms/step - loss: 1244678979584.0000 - accuracy: 0.3273\n",
            "Epoch 4/10\n",
            "2/2 [==============================] - 0s 149ms/step - loss: 967745667072.0000 - accuracy: 0.3636\n",
            "Epoch 5/10\n",
            "2/2 [==============================] - 0s 146ms/step - loss: 528177758208.0000 - accuracy: 0.3273\n",
            "Epoch 6/10\n",
            "2/2 [==============================] - 0s 141ms/step - loss: 461673988096.0000 - accuracy: 0.4364\n",
            "Epoch 7/10\n",
            "2/2 [==============================] - 0s 84ms/step - loss: 210106531840.0000 - accuracy: 0.4000\n",
            "Epoch 8/10\n",
            "2/2 [==============================] - 0s 75ms/step - loss: 129503404032.0000 - accuracy: 0.3636\n",
            "Epoch 9/10\n",
            "2/2 [==============================] - 0s 86ms/step - loss: 76829171712.0000 - accuracy: 0.2364\n",
            "Epoch 10/10\n",
            "2/2 [==============================] - 0s 76ms/step - loss: 45617168384.0000 - accuracy: 0.4364\n",
            "Model: \"sequential\"\n",
            "_________________________________________________________________\n",
            " Layer (type)                Output Shape              Param #   \n",
            "=================================================================\n",
            " conv1d (Conv1D)             (None, 2498, 32)          224       \n",
            "                                                                 \n",
            " max_pooling1d (MaxPooling1D  (None, 1249, 32)         0         \n",
            " )                                                               \n",
            "                                                                 \n",
            " conv1d_1 (Conv1D)           (None, 1247, 64)          6208      \n",
            "                                                                 \n",
            " max_pooling1d_1 (MaxPooling  (None, 623, 64)          0         \n",
            " 1D)                                                             \n",
            "                                                                 \n",
            " flatten (Flatten)           (None, 39872)             0         \n",
            "                                                                 \n",
            " dense (Dense)               (None, 128)               5103744   \n",
            "                                                                 \n",
            " dense_1 (Dense)             (None, 55)                7095      \n",
            "                                                                 \n",
            "=================================================================\n",
            "Total params: 5,117,271\n",
            "Trainable params: 5,117,271\n",
            "Non-trainable params: 0\n",
            "_________________________________________________________________\n",
            "None\n"
          ]
        }
      ],
      "source": [
        "import pandas as pd\n",
        "import numpy as np\n",
        "import tensorflow as tf\n",
        "from tensorflow import keras\n",
        "from tensorflow.keras.models import Sequential\n",
        "from tensorflow.keras.layers import Conv1D, MaxPooling1D, Flatten, Dense\n",
        "\n",
        "# Mounting the drive and loading the dataset from Mydrive\n",
        "data_path = \"/content/drive/MyDrive/Dataset/data.csv\"\n",
        "label_path = \"/content/drive/MyDrive/Dataset/label.csv\"\n",
        "\n",
        "data = pd.read_csv(data_path)\n",
        "label = pd.read_csv(label_path)\n",
        "\n",
        "# Preprocess on the data\n",
        "data = data.drop(\"Light\", axis=1).values\n",
        "labels = label.values.flatten()\n",
        "\n",
        "data = data.reshape(-1, 2500, 2) # Reshape data to match input size i.e, (2500, 2)\n",
        "\n",
        "# Defining the model and the layers\n",
        "model = Sequential([\n",
        "    Conv1D(filters=32, kernel_size=3, activation='relu', input_shape=(2500, 2)),\n",
        "    MaxPooling1D(pool_size=2),\n",
        "    Conv1D(filters=64, kernel_size=3, activation='relu'),\n",
        "    MaxPooling1D(pool_size=2),\n",
        "    Flatten(),\n",
        "    Dense(128, activation='relu'),\n",
        "    Dense(55, activation='softmax')\n",
        "])\n",
        "\n",
        "# Compiling the model\n",
        "model.compile(optimizer='adam', loss='sparse_categorical_crossentropy', metrics=['accuracy'])\n",
        "\n",
        "model.fit(data, labels, epochs=10, batch_size=32)\n",
        "print(model.summary()) #just a check on the the output\n",
        "\n",
        "def myprint(s):\n",
        "  with open('output.txt','a') as f:\n",
        "      print(s, file=f)\n",
        "\n",
        "model.summary(print_fn=myprint)\n"
      ]
    }
  ]
}